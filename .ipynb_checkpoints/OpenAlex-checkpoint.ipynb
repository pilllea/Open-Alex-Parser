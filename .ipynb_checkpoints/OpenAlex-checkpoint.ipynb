{
 "cells": [
  {
   "cell_type": "code",
   "execution_count": 32,
   "id": "5238765e",
   "metadata": {},
   "outputs": [],
   "source": [
    "import requests\n",
    "import pprint\n",
    "import json\n",
    "import pandas as pd\n",
    "import math"
   ]
  },
  {
   "cell_type": "code",
   "execution_count": 46,
   "id": "985c1085",
   "metadata": {},
   "outputs": [],
   "source": [
    "perpage=200\n",
    "folder = \"\" #Specify if needed\n",
    "customName = \"Test\""
   ]
  },
  {
   "cell_type": "code",
   "execution_count": 42,
   "id": "dc9d4e07",
   "metadata": {},
   "outputs": [],
   "source": [
    "def prodUrl(keywords_title,keywords_abstract,orcid_author,page=0,perpage=perpage):\n",
    "    request = \"https://api.openalex.org/works?\"\n",
    "    req=request\n",
    "    search = \"per-page=\"+str(perpage)+\"&\"\n",
    "    req = req+search\n",
    "    if(page!=0):\n",
    "        search = \"page=\"+str(page)+\"&\"\n",
    "    req = req+search\n",
    "    req = req+\"filter=\"\n",
    "    \n",
    "    #Search in titles\n",
    "    if(keywords_title!=\"\"):\n",
    "        search = \"title.search:\"\n",
    "        keywords_title = changeToOpenAlexFormat(keywords_title)\n",
    "        search+=keywords_title\n",
    "        req = req+search+','\n",
    "    \n",
    "    #Search in abstracts\n",
    "    if(keywords_abstract!=\"\"):\n",
    "        search = \"abstract.search:\"\n",
    "        keywords_abstract = changeToOpenAlexFormat(keywords_abstract)\n",
    "        search+=keywords_abstract\n",
    "        req = req+search+','\n",
    "    \n",
    "    #Search in authors\n",
    "    if(orcid_author!=\"\"):\n",
    "        print(\"tata\")\n",
    "        search = \"authorships.author.orcid:\"\n",
    "        orcid_author = changeToOpenAlexFormat(orcid_author)\n",
    "        search+=orcid_author\n",
    "        req = req+search+','\n",
    "    \n",
    "    if(req[-1]==','):\n",
    "        req=req[:-1]\n",
    "    \n",
    "    #If sort the search results by date or nbCitation\n",
    "    if(sort_by!=\"\"):\n",
    "        req+=\"&sort=\"+sort_by\n",
    "    \n",
    "    print(req)\n",
    "    return req\n",
    "\n",
    "def getResults(req):\n",
    "    response = requests.get(url=req)\n",
    "    response.raise_for_status()\n",
    "    random_work = response.json()\n",
    "    return random_work\n",
    "\n",
    "def saveResults(random_work,name,folder=folder):\n",
    "    with open(\"sample.json\", \"w\") as outfile:\n",
    "        json.dump(random_work, outfile)\n",
    "    \n",
    "    df = pd.read_json ('sample.json')\n",
    "    if(folder != \"\"):\n",
    "        print(\"Saved :\"+(folder+name))\n",
    "        df.to_csv (folder+name+\".csv\", index = None, sep=';',header=True)\n",
    "    else:\n",
    "        print(\"Saved :\"+name)\n",
    "        df.to_csv (name+\".csv\", index = None, sep=';',header=True)\n",
    "    \n",
    "def correctionCSVfile(name):\n",
    "    with open(name+\".csv\", \"r+\") as f:\n",
    "        first_line = f.readline()\n",
    "        if first_line != \"sep=,\":\n",
    "            lines = f.readlines()\n",
    "            f.seek(0)\n",
    "            f.write(\"sep=,\")\n",
    "            f.write(first_line)\n",
    "            f.writelines(lines)       \n",
    "        \n",
    "def gatherFiles(customName,keywords_title,keywords_abstract,orcid_author,sort_by,folder=folder):\n",
    "    url = prodUrl(keywords_title,keywords_abstract,orcid_author)\n",
    "    res = getResults(url)\n",
    "    nb_results = res['meta']['count']\n",
    "    nb_page = math.ceil(nb_results/perpage)\n",
    "    results = []\n",
    "    for i in range(0,nb_page):\n",
    "        url = prodUrl(keywords_title,keywords_abstract,orcid_author,page=i)\n",
    "        res = getResults(url)\n",
    "        results+=res['results']\n",
    "    saveResults(results,customName,folder=folder)\n",
    "    \n",
    "def changeToOpenAlexFormat(text):\n",
    "    text = text.replace(\" AND \", \"%26\")\n",
    "    text = text.replace(\" OR \", \"|\")\n",
    "    text = text.replace(\" \", \"%20\")\n",
    "    return text\n",
    "    \n",
    "def findEndParenteseIndex(text):\n",
    "    first_parenthese_found = False\n",
    "    index_first_parentese = 0\n",
    "    istart = []  # stack of indices of opening parentheses\n",
    "    d = {}\n",
    "\n",
    "    for i, c in enumerate(text):\n",
    "        if c == '(':\n",
    "            istart.append(i)\n",
    "            if first_parenthese_found == False:\n",
    "                index_first_parentese = i\n",
    "                first_parenthese_found = True\n",
    "        if c == ')':\n",
    "            try:\n",
    "                d[istart.pop()] = i\n",
    "            except IndexError:\n",
    "                print('Too many closing parentheses')\n",
    "    if istart:  # check if stack is empty afterwards\n",
    "        print('Too many opening parentheses')\n",
    "    return d[index_first_parentese]"
   ]
  },
  {
   "cell_type": "code",
   "execution_count": 43,
   "id": "20f96b17",
   "metadata": {
    "scrolled": false
   },
   "outputs": [
    {
     "name": "stdout",
     "output_type": "stream",
     "text": [
      "What would you like to search for? (Expected format: Title(Keyword1 AND/OR (Keyword2 AND/OR Keyword3..)) AND/OR Abstract(Keyword1 AND/OR Keyword2 ..) AND Author(0000-0002-6888-9198 AND 0000-0002-6888-9197) AND Source(JournalName AND/OR ConferenceName) AND SortBy(Date/NbCitation))Title(presence) OR Abstract((VR OR Virtual Reality) AND (BCI OR EEG))\n",
      "presence         (VR OR Virtual Reality) AND (BCI OR EEG)                  \n"
     ]
    }
   ],
   "source": [
    "#To do: \n",
    "#  Ajouter critère journal/institution?\n",
    "keywords_title = \"\"\n",
    "keywords_abstract = \"\"\n",
    "orcid_author = \"\"\n",
    "sort_by = \"\"\n",
    "\n",
    "my_search = input(\"What would you like to search for? (Expected format: Title(Keyword1 AND/OR (Keyword2 AND/OR Keyword3..)) AND/OR Abstract(Keyword1 AND/OR Keyword2 ..) AND Author(0000-0002-6888-9198 AND 0000-0002-6888-9197) AND Source(JournalName AND/OR ConferenceName) AND SortBy(Date/NbCitation))\")\n",
    "#If the user's search includes title keyword(s) search\n",
    "if \"Title(\" in my_search:\n",
    "    keywords_title_str = my_search.split(\"Title\")[1]\n",
    "    end_parentese_index = findEndParenteseIndex(keywords_title_str)\n",
    "    keywords_title = keywords_title_str[1:end_parentese_index]\n",
    "    \n",
    "#If the user's search includes abstract keyword(s) search\n",
    "if \"Abstract(\" in my_search:\n",
    "    keywords_abstract_str = my_search.split(\"Abstract\")[1]\n",
    "    end_parentese_index = findEndParenteseIndex(keywords_abstract_str)\n",
    "    keywords_abstract = keywords_abstract_str[1:end_parentese_index]\n",
    "    \n",
    "#If the user's search includes author(s) search\n",
    "if \"Author(\" in my_search:\n",
    "    orcid_author_str = my_search.split(\"Author\")[1]\n",
    "    end_parentese_index = findEndParenteseIndex(orcid_author_str)\n",
    "    orcid_author = orcid_author_str[1:end_parentese_index]\n",
    "\n",
    "if \"SortBy(\" in my_search:\n",
    "    if \"date\" in my_search.split(\"SortBy(\")[1]:\n",
    "        sort_by = \"publication_date:desc\"\n",
    "    if \"nbCitation\" in my_search.split(\"SortBy(\")[1]:\n",
    "        sort_by = \"cited_by_count:desc\"\n",
    "        \n",
    "print(keywords_title + \"         \" + keywords_abstract + \"         \" + orcid_author + \"         \" + sort_by)\n"
   ]
  },
  {
   "cell_type": "code",
   "execution_count": 44,
   "id": "97570b13",
   "metadata": {},
   "outputs": [
    {
     "data": {
      "text/plain": [
       "'Test'"
      ]
     },
     "execution_count": 44,
     "metadata": {},
     "output_type": "execute_result"
    }
   ],
   "source": [
    "customName"
   ]
  },
  {
   "cell_type": "code",
   "execution_count": 45,
   "id": "176164a2",
   "metadata": {},
   "outputs": [
    {
     "name": "stdout",
     "output_type": "stream",
     "text": [
      "https://api.openalex.org/works?per-page=200&per-page=200&filter=title.search:presence,abstract.search:(VR|Virtual%20Reality)%26(BCI|EEG)\n",
      "https://api.openalex.org/works?per-page=200&per-page=200&filter=title.search:presence,abstract.search:(VR|Virtual%20Reality)%26(BCI|EEG)\n",
      "https://api.openalex.org/works?per-page=200&page=1&filter=title.search:presence,abstract.search:(VR|Virtual%20Reality)%26(BCI|EEG)\n",
      "https://api.openalex.org/works?per-page=200&page=2&filter=title.search:presence,abstract.search:(VR|Virtual%20Reality)%26(BCI|EEG)\n",
      "https://api.openalex.org/works?per-page=200&page=3&filter=title.search:presence,abstract.search:(VR|Virtual%20Reality)%26(BCI|EEG)\n",
      "Saved :C:/Users/esavalle/Documents/GitHub/Open-Alex-Parser/Test\n"
     ]
    }
   ],
   "source": [
    "gatherFiles(customName,keywords_title,keywords_abstract,orcid_author,sort_by)"
   ]
  },
  {
   "cell_type": "code",
   "execution_count": null,
   "id": "fee011d4",
   "metadata": {},
   "outputs": [],
   "source": []
  },
  {
   "cell_type": "code",
   "execution_count": null,
   "id": "81012652",
   "metadata": {},
   "outputs": [],
   "source": [
    "Title(presence) OR Abstract((VR OR Virtual Reality) AND (BCI OR EEG))"
   ]
  }
 ],
 "metadata": {
  "kernelspec": {
   "display_name": "Python 3 (ipykernel)",
   "language": "python",
   "name": "python3"
  },
  "language_info": {
   "codemirror_mode": {
    "name": "ipython",
    "version": 3
   },
   "file_extension": ".py",
   "mimetype": "text/x-python",
   "name": "python",
   "nbconvert_exporter": "python",
   "pygments_lexer": "ipython3",
   "version": "3.9.12"
  }
 },
 "nbformat": 4,
 "nbformat_minor": 5
}
